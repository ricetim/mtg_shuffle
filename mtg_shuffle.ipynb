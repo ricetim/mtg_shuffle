{
  "nbformat": 4,
  "nbformat_minor": 0,
  "metadata": {
    "language_info": {
      "codemirror_mode": {
        "name": "ipython",
        "version": 3
      },
      "file_extension": ".py",
      "mimetype": "text/x-python",
      "name": "python",
      "nbconvert_exporter": "python",
      "pygments_lexer": "ipython3",
      "version": "3.8.6"
    },
    "orig_nbformat": 2,
    "kernelspec": {
      "name": "python386jvsc74a57bd0b22d6faa8dd9d5872424fb3679ae56437843f758b1ccbf28a7b88b79dd860ef0",
      "display_name": "Python 3.8.6 64-bit"
    },
    "colab": {
      "name": "mtg_shuffle.ipynb",
      "provenance": []
    }
  },
  "cells": [
    {
      "cell_type": "code",
      "metadata": {
        "id": "232JuPmm_aUT"
      },
      "source": [
        "import numpy as np\n",
        "import math\n",
        "import matplotlib.pyplot as plt"
      ],
      "execution_count": 1,
      "outputs": []
    },
    {
      "cell_type": "code",
      "metadata": {
        "id": "DoaCwzla_aUV"
      },
      "source": [
        "# deck_size = 60\n",
        "deck = [0] * 60\n",
        "deck[0] = 100\n",
        "deck_sum = [0] * 60\n",
        "num_shuffles = 10\n",
        "counter = iterations = 100000"
      ],
      "execution_count": 2,
      "outputs": []
    },
    {
      "cell_type": "code",
      "metadata": {
        "id": "H4dT3OoT_aUW"
      },
      "source": [
        "def sigmoid(x):\n",
        "    k = 200\n",
        "    return 1 / (1 + math.exp(-k*x))"
      ],
      "execution_count": 3,
      "outputs": []
    },
    {
      "cell_type": "code",
      "metadata": {
        "id": "ijBhZAjj_aUX"
      },
      "source": [
        "# takes an array (deck) and splits it into two halvs, according to the binomial distribution\n",
        "def deck_cut(d):\n",
        "    cut_point = np.random.binomial(len(d),0.5)\n",
        "    deck_a = d[:cut_point]\n",
        "    deck_b = d[cut_point:]\n",
        "    return deck_a,deck_b"
      ],
      "execution_count": 4,
      "outputs": []
    },
    {
      "cell_type": "code",
      "metadata": {
        "id": "4LohQOAA_aUX"
      },
      "source": [
        "# riffle shuffle according to the algorithms laid out in the various papers about card shuffling\n",
        "def riffle(a,b):\n",
        "    shuffled_deck = []\n",
        "    deck_size = len(a) + len(b)\n",
        "    while(len(shuffled_deck) != deck_size):\n",
        "        prob_a = len(a)/(len(a)+len(b))\n",
        "        prob_b = len(b)/(len(a)+len(b))\n",
        "        if np.random.choice([0,1],p=[prob_a,prob_b]):\n",
        "            shuffled_deck.append(b[0])\n",
        "            b = b[1:]\n",
        "        else:\n",
        "            shuffled_deck.append(a[0])\n",
        "            a = a[1:]\n",
        "    return shuffled_deck"
      ],
      "execution_count": 5,
      "outputs": []
    },
    {
      "cell_type": "code",
      "metadata": {
        "id": "m4mv6Ga8_aUY"
      },
      "source": [
        "# takes in two decks (arrays) and riffle shuffles them together.\n",
        "def modified_riffle(a,b):\n",
        "    shuffled_deck = []\n",
        "    deck_size = len(a) + len(b)\n",
        "    choose_a = 0\n",
        "    choose_b = 0\n",
        "    while(len(shuffled_deck) != deck_size):\n",
        "        proportion_a = len(a)/(len(a)+len(b))\n",
        "        proportion_b = len(b)/(len(a)+len(b))\n",
        "        if proportion_a == 0:\n",
        "            prob_a = 0\n",
        "            prob_b = 1\n",
        "        elif proportion_b == 0:\n",
        "            prob_a = 1\n",
        "            prob_b = 0\n",
        "        elif proportion_a > proportion_b:\n",
        "            prob_a = 0.9\n",
        "            prob_b = 0.1\n",
        "        elif proportion_a <= proportion_b:\n",
        "            prob_a = 0.1\n",
        "            prob_b = 0.9\n",
        "        if np.random.choice([0,1],p=[prob_a,prob_b]):\n",
        "            shuffled_deck.append(b[0])\n",
        "            b = b[1:]\n",
        "        else:\n",
        "            shuffled_deck.append(a[0])\n",
        "            a = a[1:]\n",
        "    return shuffled_deck"
      ],
      "execution_count": 6,
      "outputs": []
    },
    {
      "cell_type": "code",
      "metadata": {
        "id": "HwfMw3oS_aUY"
      },
      "source": [
        "def streak_test(a,b,f):\n",
        "    if f == 1:\n",
        "        print('riffle')\n",
        "        d = riffle(a,b)\n",
        "    # d = sigmoid_riffle(a,b)\n",
        "    # d = riffle(a,b)\n",
        "    elif f == 2:\n",
        "        print('modified_riffle')\n",
        "        d = modified_riffle(a,b)\n",
        "    else:\n",
        "        print('f must be 1 or 2')\n",
        "        return\n",
        "    i = 1\n",
        "    s = d[0]\n",
        "    streak = 1\n",
        "    streak_array = [0] * 20\n",
        "    while (i != len(d)):\n",
        "        if s != d[i]:\n",
        "            streak_array[streak] = streak_array[streak] + 1\n",
        "            s = d[i]\n",
        "            streak = 1\n",
        "        else:\n",
        "            streak = streak + 1\n",
        "        i = i + 1\n",
        "    streak_array[streak] = streak_array[streak] + 1\n",
        "    return np.divide(streak_array,len(d))"
      ],
      "execution_count": 7,
      "outputs": []
    },
    {
      "cell_type": "code",
      "metadata": {
        "id": "_jVLCVq7_aUZ",
        "colab": {
          "base_uri": "https://localhost:8080/",
          "height": 0
        },
        "outputId": "fe7fbdef-9539-498f-b5b7-4461125d1d5a"
      },
      "source": [
        "np.set_printoptions(precision=5,suppress=True)\n",
        "riffle_streak = streak_test([0]*100000,[1]*100000,1)\n",
        "mod_riffle_streak  = streak_test([0]*100000,[1]*100000,2)\n",
        "#print(streak_test([0]*10000,[1]*10000,1))\n",
        "#print(streak_test([0]*10000,[1]*10000,2))"
      ],
      "execution_count": 8,
      "outputs": [
        {
          "output_type": "stream",
          "text": [
            "riffle\n",
            "modified_riffle\n"
          ],
          "name": "stdout"
        }
      ]
    },
    {
      "cell_type": "code",
      "metadata": {
        "id": "5pyJuq5i_aUa",
        "colab": {
          "base_uri": "https://localhost:8080/",
          "height": 269
        },
        "outputId": "f8c02a98-f88b-4d43-e6eb-d77d7332f8dd"
      },
      "source": [
        "plt.plot(riffle_streak,'ro',mod_riffle_streak,'bo')\n",
        "plt.axis([0, 10,0,1])\n",
        "plt.show()"
      ],
      "execution_count": 23,
      "outputs": [
        {
          "output_type": "display_data",
          "data": {
            "image/png": "[encoded data removed]",
            "text/plain": [
              "<Figure size 432x288 with 1 Axes>"
            ]
          },
          "metadata": {
            "tags": [],
            "needs_background": "light"
          }
        }
      ]
    },
    {
      "cell_type": "code",
      "metadata": {
        "id": "GZWvMAglK99s"
      },
      "source": [
        ""
      ],
      "execution_count": null,
      "outputs": []
    }
  ]
}