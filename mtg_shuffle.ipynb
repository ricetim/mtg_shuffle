{
 "metadata": {
  "language_info": {
   "codemirror_mode": {
    "name": "ipython",
    "version": 3
   },
   "file_extension": ".py",
   "mimetype": "text/x-python",
   "name": "python",
   "nbconvert_exporter": "python",
   "pygments_lexer": "ipython3",
   "version": "3.8.6"
  },
  "orig_nbformat": 2,
  "kernelspec": {
   "name": "python386jvsc74a57bd0b22d6faa8dd9d5872424fb3679ae56437843f758b1ccbf28a7b88b79dd860ef0",
   "display_name": "Python 3.8.6 64-bit"
  }
 },
 "nbformat": 4,
 "nbformat_minor": 2,
 "cells": [
  {
   "cell_type": "code",
   "execution_count": 6,
   "metadata": {},
   "outputs": [],
   "source": [
    "import numpy as np\n",
    "import math"
   ]
  },
  {
   "cell_type": "code",
   "execution_count": 7,
   "metadata": {},
   "outputs": [],
   "source": [
    "# deck_size = 60\n",
    "deck = [0] * 60\n",
    "deck[0] = 100\n",
    "deck_sum = [0] * 60\n",
    "num_shuffles = 10\n",
    "counter = iterations = 100000"
   ]
  },
  {
   "cell_type": "code",
   "execution_count": 8,
   "metadata": {},
   "outputs": [],
   "source": [
    "def sigmoid(x):\n",
    "    k = 200\n",
    "    return 1 / (1 + math.exp(-k*x))"
   ]
  },
  {
   "cell_type": "code",
   "execution_count": 9,
   "metadata": {},
   "outputs": [],
   "source": [
    "# takes an array (deck) and splits it into two halvs, according to the binomial distribution\n",
    "def deck_cut(d):\n",
    "    cut_point = np.random.binomial(len(d),0.5)\n",
    "    deck_a = d[:cut_point]\n",
    "    deck_b = d[cut_point:]\n",
    "    return deck_a,deck_b"
   ]
  },
  {
   "cell_type": "code",
   "execution_count": 10,
   "metadata": {},
   "outputs": [],
   "source": [
    "# riffle shuffle according to the algorithms laid out in the various papers about card shuffling\n",
    "def riffle(a,b):\n",
    "    shuffled_deck = []\n",
    "    deck_size = len(a) + len(b)\n",
    "    while(len(shuffled_deck) != deck_size):\n",
    "        prob_a = len(a)/(len(a)+len(b))\n",
    "        prob_b = len(b)/(len(a)+len(b))\n",
    "        if np.random.choice([0,1],p=[prob_a,prob_b]):\n",
    "            shuffled_deck.append(b[0])\n",
    "            b = b[1:]\n",
    "        else:\n",
    "            shuffled_deck.append(a[0])\n",
    "            a = a[1:]\n",
    "    return shuffled_deck"
   ]
  },
  {
   "cell_type": "code",
   "execution_count": 11,
   "metadata": {},
   "outputs": [],
   "source": [
    "# takes in two decks (arrays) and riffle shuffles them together.\n",
    "def modified_riffle(a,b):\n",
    "    shuffled_deck = []\n",
    "    deck_size = len(a) + len(b)\n",
    "    choose_a = 0\n",
    "    choose_b = 0\n",
    "    while(len(shuffled_deck) != deck_size):\n",
    "        proportion_a = len(a)/(len(a)+len(b))\n",
    "        proportion_b = len(b)/(len(a)+len(b))\n",
    "        if proportion_a == 0:\n",
    "            prob_a = 0\n",
    "            prob_b = 1\n",
    "        elif proportion_b == 0:\n",
    "            prob_a = 1\n",
    "            prob_b = 0\n",
    "        elif proportion_a > proportion_b:\n",
    "            prob_a = 0.9\n",
    "            prob_b = 0.1\n",
    "        elif proportion_a <= proportion_b:\n",
    "            prob_a = 0.1\n",
    "            prob_b = 0.9\n",
    "        if np.random.choice([0,1],p=[prob_a,prob_b]):\n",
    "            shuffled_deck.append(b[0])\n",
    "            b = b[1:]\n",
    "        else:\n",
    "            shuffled_deck.append(a[0])\n",
    "            a = a[1:]\n",
    "    return shuffled_deck"
   ]
  },
  {
   "cell_type": "code",
   "execution_count": 16,
   "metadata": {},
   "outputs": [],
   "source": [
    "def streak_test(a,b,f):\n",
    "    if f == 1:\n",
    "        print('riffle')\n",
    "        d = riffle(a,b)\n",
    "    # d = sigmoid_riffle(a,b)\n",
    "    # d = riffle(a,b)\n",
    "    elif f == 2:\n",
    "        print('modified_riffle')\n",
    "        d = modified_riffle(a,b)\n",
    "    else:\n",
    "        print('f must be 1 or 2')\n",
    "        return\n",
    "    i = 1\n",
    "    s = d[0]\n",
    "    streak = 1\n",
    "    streak_array = [0] * 20\n",
    "    while (i != len(d)):\n",
    "        if s != d[i]:\n",
    "            streak_array[streak] = streak_array[streak] + 1\n",
    "            s = d[i]\n",
    "            streak = 1\n",
    "        else:\n",
    "            streak = streak + 1\n",
    "        i = i + 1\n",
    "    streak_array[streak] = streak_array[streak] + 1\n",
    "    return np.divide(streak_array,len(d))"
   ]
  },
  {
   "cell_type": "code",
   "execution_count": 21,
   "metadata": {},
   "outputs": [
    {
     "output_type": "stream",
     "name": "stdout",
     "text": [
      "riffle\n",
      "[0.      0.24926 0.12491 0.0626  0.03156 0.01551 0.00793 0.004   0.00194\n",
      " 0.0009  0.00052 0.00023 0.00007 0.00007 0.00002 0.00001 0.      0.\n",
      " 0.      0.     ]\n",
      "modified_riffle\n",
      "[0.      0.66283 0.13196 0.02024 0.00265 0.00033 0.00004 0.00001 0.\n",
      " 0.      0.      0.      0.      0.      0.      0.      0.      0.\n",
      " 0.      0.     ]\n"
     ]
    }
   ],
   "source": [
    "np.set_printoptions(precision=5,suppress=True)\n",
    "print(streak_test([0]*100000,[1]*100000,1))\n",
    "print(streak_test([0]*100000,[1]*100000,2))"
   ]
  },
  {
   "cell_type": "code",
   "execution_count": null,
   "metadata": {},
   "outputs": [],
   "source": []
  }
 ]
}