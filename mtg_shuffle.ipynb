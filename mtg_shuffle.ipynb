{
 "metadata": {
  "language_info": {
   "codemirror_mode": {
    "name": "ipython",
    "version": 3
   },
   "file_extension": ".py",
   "mimetype": "text/x-python",
   "name": "python",
   "nbconvert_exporter": "python",
   "pygments_lexer": "ipython3",
   "version": "3.8.6"
  },
  "orig_nbformat": 2,
  "kernelspec": {
   "name": "python386jvsc74a57bd0b22d6faa8dd9d5872424fb3679ae56437843f758b1ccbf28a7b88b79dd860ef0",
   "display_name": "Python 3.8.6 64-bit"
  }
 },
 "nbformat": 4,
 "nbformat_minor": 2,
 "cells": [
  {
   "cell_type": "code",
   "execution_count": 7,
   "metadata": {},
   "outputs": [],
   "source": [
    "import numpy as np\n",
    "import math"
   ]
  },
  {
   "cell_type": "code",
   "execution_count": 8,
   "metadata": {},
   "outputs": [],
   "source": [
    "# deck_size = 60\n",
    "deck = [0] * 60\n",
    "deck[0] = 100\n",
    "deck_sum = [0] * 60\n",
    "num_shuffles = 10\n",
    "counter = iterations = 100000"
   ]
  },
  {
   "cell_type": "code",
   "execution_count": 9,
   "metadata": {},
   "outputs": [],
   "source": [
    "def sigmoid(x):\n",
    "    k = 200\n",
    "    return 1 / (1 + math.exp(-k*x))"
   ]
  },
  {
   "cell_type": "code",
   "execution_count": 10,
   "metadata": {},
   "outputs": [],
   "source": [
    "# takes an array (deck) and splits it into two halvs, according to the binomial distribution\n",
    "def deck_cut(d):\n",
    "    cut_point = np.random.binomial(len(d),0.5)\n",
    "    deck_a = d[:cut_point]\n",
    "    deck_b = d[cut_point:]\n",
    "    return deck_a,deck_b"
   ]
  },
  {
   "cell_type": "code",
   "execution_count": 11,
   "metadata": {},
   "outputs": [],
   "source": [
    "# riffle shuffle according to the algorithms laid out in the various papers about card shuffling\n",
    "def riffle(a,b):\n",
    "    shuffled_deck = []\n",
    "    deck_size = len(a) + len(b)\n",
    "    while(len(shuffled_deck) != deck_size):\n",
    "        prob_a = len(a)/(len(a)+len(b))\n",
    "        prob_b = len(b)/(len(a)+len(b))\n",
    "        if np.random.choice([0,1],p=[prob_a,prob_b]):\n",
    "            shuffled_deck.append(b[0])\n",
    "            b = b[1:]\n",
    "        else:\n",
    "            shuffled_deck.append(a[0])\n",
    "            a = a[1:]\n",
    "    return shuffled_deck"
   ]
  },
  {
   "cell_type": "code",
   "execution_count": null,
   "metadata": {},
   "outputs": [],
   "source": []
  }
 ]
}